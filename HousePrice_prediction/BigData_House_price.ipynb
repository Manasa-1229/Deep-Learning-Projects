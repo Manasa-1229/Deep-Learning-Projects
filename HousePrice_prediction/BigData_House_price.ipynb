{
 "cells": [
  {
   "cell_type": "markdown",
   "id": "e715204d",
   "metadata": {},
   "source": [
    "# House Price Analysis"
   ]
  },
  {
   "cell_type": "markdown",
   "id": "b18d162a",
   "metadata": {},
   "source": [
    "Manasa Gonuguntla\n",
    "02/02/2023"
   ]
  },
  {
   "cell_type": "code",
   "execution_count": 11,
   "id": "5c81c97c",
   "metadata": {},
   "outputs": [],
   "source": [
    "import pandas as pd\n",
    "import numpy as np\n",
    "import warnings\n",
    "warnings.filterwarnings('ignore')"
   ]
  },
  {
   "cell_type": "code",
   "execution_count": 12,
   "id": "59f83cfb",
   "metadata": {},
   "outputs": [
    {
     "data": {
      "text/html": [
       "<div>\n",
       "<style scoped>\n",
       "    .dataframe tbody tr th:only-of-type {\n",
       "        vertical-align: middle;\n",
       "    }\n",
       "\n",
       "    .dataframe tbody tr th {\n",
       "        vertical-align: top;\n",
       "    }\n",
       "\n",
       "    .dataframe thead th {\n",
       "        text-align: right;\n",
       "    }\n",
       "</style>\n",
       "<table border=\"1\" class=\"dataframe\">\n",
       "  <thead>\n",
       "    <tr style=\"text-align: right;\">\n",
       "      <th></th>\n",
       "      <th>Overall Qual</th>\n",
       "      <th>Overall Cond</th>\n",
       "      <th>Total Bsmt SF</th>\n",
       "      <th>Central Air</th>\n",
       "      <th>Gr Liv Area</th>\n",
       "      <th>SalePrice</th>\n",
       "    </tr>\n",
       "  </thead>\n",
       "  <tbody>\n",
       "    <tr>\n",
       "      <th>0</th>\n",
       "      <td>6</td>\n",
       "      <td>5</td>\n",
       "      <td>1080.0</td>\n",
       "      <td>Y</td>\n",
       "      <td>1656</td>\n",
       "      <td>215000</td>\n",
       "    </tr>\n",
       "    <tr>\n",
       "      <th>1</th>\n",
       "      <td>5</td>\n",
       "      <td>6</td>\n",
       "      <td>882.0</td>\n",
       "      <td>Y</td>\n",
       "      <td>896</td>\n",
       "      <td>105000</td>\n",
       "    </tr>\n",
       "    <tr>\n",
       "      <th>2</th>\n",
       "      <td>6</td>\n",
       "      <td>6</td>\n",
       "      <td>1329.0</td>\n",
       "      <td>Y</td>\n",
       "      <td>1329</td>\n",
       "      <td>172000</td>\n",
       "    </tr>\n",
       "    <tr>\n",
       "      <th>3</th>\n",
       "      <td>7</td>\n",
       "      <td>5</td>\n",
       "      <td>2110.0</td>\n",
       "      <td>Y</td>\n",
       "      <td>2110</td>\n",
       "      <td>244000</td>\n",
       "    </tr>\n",
       "    <tr>\n",
       "      <th>4</th>\n",
       "      <td>5</td>\n",
       "      <td>5</td>\n",
       "      <td>928.0</td>\n",
       "      <td>Y</td>\n",
       "      <td>1629</td>\n",
       "      <td>189900</td>\n",
       "    </tr>\n",
       "  </tbody>\n",
       "</table>\n",
       "</div>"
      ],
      "text/plain": [
       "   Overall Qual  Overall Cond  Total Bsmt SF Central Air  Gr Liv Area  \\\n",
       "0             6             5         1080.0           Y         1656   \n",
       "1             5             6          882.0           Y          896   \n",
       "2             6             6         1329.0           Y         1329   \n",
       "3             7             5         2110.0           Y         2110   \n",
       "4             5             5          928.0           Y         1629   \n",
       "\n",
       "   SalePrice  \n",
       "0     215000  \n",
       "1     105000  \n",
       "2     172000  \n",
       "3     244000  \n",
       "4     189900  "
      ]
     },
     "execution_count": 12,
     "metadata": {},
     "output_type": "execute_result"
    }
   ],
   "source": [
    "columns = ['Overall Qual', 'Overall Cond', 'Gr Liv Area',\n",
    "           'Central Air', 'Total Bsmt SF', 'SalePrice']\n",
    "\n",
    "Data = pd.read_csv('http://jse.amstat.org/v19n3/decock/AmesHousing.txt', \n",
    "                 sep='\\t',\n",
    "                 usecols=columns)\n",
    "\n",
    "Data.head()"
   ]
  },
  {
   "cell_type": "code",
   "execution_count": 14,
   "id": "bc9c1714",
   "metadata": {},
   "outputs": [
    {
     "data": {
      "text/plain": [
       "True"
      ]
     },
     "execution_count": 14,
     "metadata": {},
     "output_type": "execute_result"
    }
   ],
   "source": [
    "Data.duplicated().any()"
   ]
  },
  {
   "cell_type": "code",
   "execution_count": 15,
   "id": "6cc6c3e0",
   "metadata": {},
   "outputs": [],
   "source": [
    "Updated_Data= Data.drop_duplicates()"
   ]
  },
  {
   "cell_type": "code",
   "execution_count": 18,
   "id": "6020de0a",
   "metadata": {},
   "outputs": [],
   "source": [
    "Updated_Data['Central Air'].replace(['Y', 'N'],\n",
    "                        [1, 0], inplace=True)"
   ]
  },
  {
   "cell_type": "code",
   "execution_count": 19,
   "id": "72ee14d1",
   "metadata": {},
   "outputs": [
    {
     "data": {
      "text/plain": [
       "1    2725\n",
       "0     195\n",
       "Name: Central Air, dtype: int64"
      ]
     },
     "execution_count": 19,
     "metadata": {},
     "output_type": "execute_result"
    }
   ],
   "source": [
    "Updated_Data['Central Air'].value_counts()"
   ]
  },
  {
   "cell_type": "code",
   "execution_count": 34,
   "id": "b68ffed8",
   "metadata": {},
   "outputs": [
    {
     "data": {
      "text/plain": [
       "Overall Qual     0\n",
       "Overall Cond     0\n",
       "Total Bsmt SF    1\n",
       "Central Air      0\n",
       "Gr Liv Area      0\n",
       "SalePrice        0\n",
       "dtype: int64"
      ]
     },
     "execution_count": 34,
     "metadata": {},
     "output_type": "execute_result"
    }
   ],
   "source": [
    "Updated_Data.isnull().sum()"
   ]
  },
  {
   "cell_type": "code",
   "execution_count": 35,
   "id": "ac4da69f",
   "metadata": {},
   "outputs": [],
   "source": [
    "Updated_Data['Total Bsmt SF']=Updated_Data['Total Bsmt SF'].fillna(Updated_Data['Total Bsmt SF'].mean())"
   ]
  },
  {
   "cell_type": "code",
   "execution_count": 36,
   "id": "a93e574c",
   "metadata": {},
   "outputs": [
    {
     "data": {
      "text/plain": [
       "Overall Qual     0\n",
       "Overall Cond     0\n",
       "Total Bsmt SF    0\n",
       "Central Air      0\n",
       "Gr Liv Area      0\n",
       "SalePrice        0\n",
       "dtype: int64"
      ]
     },
     "execution_count": 36,
     "metadata": {},
     "output_type": "execute_result"
    }
   ],
   "source": [
    "Updated_Data.isnull().sum()"
   ]
  },
  {
   "cell_type": "code",
   "execution_count": 37,
   "id": "186742a0",
   "metadata": {},
   "outputs": [
    {
     "data": {
      "text/html": [
       "<div>\n",
       "<style scoped>\n",
       "    .dataframe tbody tr th:only-of-type {\n",
       "        vertical-align: middle;\n",
       "    }\n",
       "\n",
       "    .dataframe tbody tr th {\n",
       "        vertical-align: top;\n",
       "    }\n",
       "\n",
       "    .dataframe thead th {\n",
       "        text-align: right;\n",
       "    }\n",
       "</style>\n",
       "<table border=\"1\" class=\"dataframe\">\n",
       "  <thead>\n",
       "    <tr style=\"text-align: right;\">\n",
       "      <th></th>\n",
       "      <th>Overall Qual</th>\n",
       "      <th>Overall Cond</th>\n",
       "      <th>Total Bsmt SF</th>\n",
       "      <th>Central Air</th>\n",
       "      <th>Gr Liv Area</th>\n",
       "      <th>SalePrice</th>\n",
       "    </tr>\n",
       "  </thead>\n",
       "  <tbody>\n",
       "    <tr>\n",
       "      <th>0</th>\n",
       "      <td>6</td>\n",
       "      <td>5</td>\n",
       "      <td>1080.0</td>\n",
       "      <td>1</td>\n",
       "      <td>1656</td>\n",
       "      <td>215000</td>\n",
       "    </tr>\n",
       "    <tr>\n",
       "      <th>1</th>\n",
       "      <td>5</td>\n",
       "      <td>6</td>\n",
       "      <td>882.0</td>\n",
       "      <td>1</td>\n",
       "      <td>896</td>\n",
       "      <td>105000</td>\n",
       "    </tr>\n",
       "    <tr>\n",
       "      <th>2</th>\n",
       "      <td>6</td>\n",
       "      <td>6</td>\n",
       "      <td>1329.0</td>\n",
       "      <td>1</td>\n",
       "      <td>1329</td>\n",
       "      <td>172000</td>\n",
       "    </tr>\n",
       "    <tr>\n",
       "      <th>3</th>\n",
       "      <td>7</td>\n",
       "      <td>5</td>\n",
       "      <td>2110.0</td>\n",
       "      <td>1</td>\n",
       "      <td>2110</td>\n",
       "      <td>244000</td>\n",
       "    </tr>\n",
       "    <tr>\n",
       "      <th>4</th>\n",
       "      <td>5</td>\n",
       "      <td>5</td>\n",
       "      <td>928.0</td>\n",
       "      <td>1</td>\n",
       "      <td>1629</td>\n",
       "      <td>189900</td>\n",
       "    </tr>\n",
       "  </tbody>\n",
       "</table>\n",
       "</div>"
      ],
      "text/plain": [
       "   Overall Qual  Overall Cond  Total Bsmt SF  Central Air  Gr Liv Area  \\\n",
       "0             6             5         1080.0            1         1656   \n",
       "1             5             6          882.0            1          896   \n",
       "2             6             6         1329.0            1         1329   \n",
       "3             7             5         2110.0            1         2110   \n",
       "4             5             5          928.0            1         1629   \n",
       "\n",
       "   SalePrice  \n",
       "0     215000  \n",
       "1     105000  \n",
       "2     172000  \n",
       "3     244000  \n",
       "4     189900  "
      ]
     },
     "execution_count": 37,
     "metadata": {},
     "output_type": "execute_result"
    }
   ],
   "source": [
    "Updated_Data.head()"
   ]
  },
  {
   "cell_type": "code",
   "execution_count": 38,
   "id": "8beb826e",
   "metadata": {},
   "outputs": [],
   "source": [
    "X = Updated_Data.drop('SalePrice', axis=1)\n",
    "y = Updated_Data['SalePrice']"
   ]
  },
  {
   "cell_type": "code",
   "execution_count": 39,
   "id": "761ce945",
   "metadata": {},
   "outputs": [],
   "source": [
    "from sklearn.model_selection import train_test_split\n",
    "x_train, x_test, y_train, y_test = train_test_split(X, y, test_size = 0.2, random_state = 0)"
   ]
  },
  {
   "cell_type": "code",
   "execution_count": 40,
   "id": "70ea4522",
   "metadata": {},
   "outputs": [],
   "source": [
    "from sklearn.preprocessing import MinMaxScaler, PolynomialFeatures\n",
    "scaler = MinMaxScaler()"
   ]
  },
  {
   "cell_type": "code",
   "execution_count": 41,
   "id": "c8a2d7f1",
   "metadata": {},
   "outputs": [],
   "source": [
    "#scale our data\n",
    "scaler.fit(x_train)\n",
    "x_train_scaled = scaler.transform(x_train)\n",
    "#now scale xtest using the same scaler\n",
    "x_test_scaled = scaler.transform(x_test)"
   ]
  },
  {
   "cell_type": "code",
   "execution_count": 43,
   "id": "a6def49b",
   "metadata": {},
   "outputs": [
    {
     "data": {
      "text/plain": [
       "array([0.77777778, 0.5       , 0.20621931, 1.        , 0.17972871])"
      ]
     },
     "execution_count": 43,
     "metadata": {},
     "output_type": "execute_result"
    }
   ],
   "source": [
    "x_train_scaled[0]"
   ]
  },
  {
   "cell_type": "code",
   "execution_count": 79,
   "id": "7413af6f",
   "metadata": {},
   "outputs": [
    {
     "name": "stdout",
     "output_type": "stream",
     "text": [
      "Training R-Squared:  0.754562\n",
      "Test R-Squared:  0.80081\n",
      "Mean Absolute Error:  25820.620839\n",
      "Root mean suared error:  36832.398401\n"
     ]
    }
   ],
   "source": [
    "from sklearn.linear_model import LinearRegression,Ridge, Lasso\n",
    "from sklearn.metrics import mean_squared_error, mean_absolute_error\n",
    "import pickle\n",
    "Model_LR = LinearRegression( n_jobs=-1)\n",
    "Model_LR.fit(x_train_scaled,y_train)\n",
    "y_pred_LR = Model_LR.predict(x_test_scaled)\n",
    "\n",
    "print(\"Training R-Squared: \",round( Model_LR.score(x_train_scaled, y_train),6))\n",
    "print(\"Test R-Squared: \", round(Model_LR.score(x_test_scaled, y_test),6))\n",
    "R_squared_LR = Model_LR.score(x_test_scaled, y_test)\n",
    "MSE_LR = round(mean_squared_error(y_test, y_pred_LR),6)\n",
    "MAE_LR = round(mean_absolute_error(y_test, y_pred_LR),6)\n",
    "RMSE_LR = round(np.sqrt(MSE_LR),6)\n",
    "print(\"Mean Absolute Error: \", MAE_LR)\n",
    "print(\"Root mean suared error: \", RMSE_LR)\n",
    "pickle.dump(Model_LR, open('Housing_LR.pkl', 'wb'))\n",
    "#pickled_model_LR = pickle.load(open('Housing_LR.pkl', 'rb'))\n"
   ]
  },
  {
   "cell_type": "code",
   "execution_count": 82,
   "id": "6efd626c",
   "metadata": {},
   "outputs": [
    {
     "name": "stdout",
     "output_type": "stream",
     "text": [
      "Wall time: 127 ms\n",
      "{'alpha': 50, 'max_iter': 2000}\n"
     ]
    }
   ],
   "source": [
    "from sklearn.model_selection import GridSearchCV\n",
    "from sklearn import linear_model\n",
    "Model_Lasso = linear_model.Lasso(random_state=0,selection='random')\n",
    "param_grid = [    \n",
    "    {'alpha':[0.3,0.5,0.7,0.9,1.0,10,50,100],\n",
    "    'max_iter' : [2000,5000]\n",
    "    }\n",
    "]\n",
    "grid = GridSearchCV(Model_Lasso, param_grid, cv =10,n_jobs=-1)\n",
    "%time grid.fit(x_train_scaled, y_train)\n",
    "print(grid.best_params_)\n",
    "bestModel_Lasso = grid.best_estimator_\n",
    "pickle.dump(bestModel_Lasso, open('Housing_Lasso.pkl', 'wb'))\n",
    "pickled_model_LP = pickle.load(open('Housing_Lasso.pkl', 'rb'))\n"
   ]
  },
  {
   "cell_type": "code",
   "execution_count": 84,
   "id": "eb4c9bfb",
   "metadata": {},
   "outputs": [
    {
     "name": "stdout",
     "output_type": "stream",
     "text": [
      "Training R-Squared:  0.754431\n",
      "Test R-Squared:  0.799142\n",
      "Mean Absolute Error:  25865.446136\n",
      "Root mean suared error:  36986.340108\n"
     ]
    }
   ],
   "source": [
    "y_pred_Lasso = bestModel_Lasso.predict(x_test_scaled)\n",
    "R_squared_Lasso = round(bestModel_Lasso.score(x_test_scaled, y_test), 6)\n",
    "print(\"Training R-Squared: \", round(bestModel_Lasso.score(x_train_scaled, y_train),6))\n",
    "print(\"Test R-Squared: \", R_squared_Lasso)\n",
    "MSE_Lasso = round(mean_squared_error(y_test, y_pred_Lasso),6)\n",
    "MAE_Lasso = round(mean_absolute_error(y_test, y_pred_Lasso),6)\n",
    "RMSE_Lasso = round(np.sqrt(MSE_Lasso),6)\n",
    "print(\"Mean Absolute Error: \", MAE_Lasso)\n",
    "print(\"Root mean suared error: \", RMSE_Lasso)"
   ]
  },
  {
   "cell_type": "code",
   "execution_count": 87,
   "id": "efacb7ac",
   "metadata": {},
   "outputs": [
    {
     "name": "stdout",
     "output_type": "stream",
     "text": [
      "Wall time: 2.01 s\n",
      "{'alpha': 1.0, 'solver': 'sparse_cg'}\n"
     ]
    }
   ],
   "source": [
    "Model_Ridge = linear_model.Ridge(random_state=0)\n",
    "param_grid = [    \n",
    "    {'alpha':[0.3,0.5,0.7,0.9,1.0,10,50,100],\n",
    "     'solver': ['auto', 'svd', 'cholesky', 'lsqr', 'sparse_cg', 'sag', 'saga', 'lbfgs']\n",
    "    }\n",
    "]\n",
    "grid = GridSearchCV(Model_Ridge, param_grid, cv =10,n_jobs=-1)\n",
    "%time grid.fit(x_train_scaled, y_train)\n",
    "print(grid.best_params_)\n",
    "bestModel_Ridge = grid.best_estimator_\n",
    "pickle.dump(bestModel_Ridge, open('Housing_Ridge.pkl', 'wb'))\n",
    "#pickled_model_Ridge = pickle.load(open('Housing_Ridge.pkl', 'rb'))\n"
   ]
  },
  {
   "cell_type": "code",
   "execution_count": 88,
   "id": "0811e3c1",
   "metadata": {},
   "outputs": [
    {
     "name": "stdout",
     "output_type": "stream",
     "text": [
      "Training R-Squared:  0.75421\n",
      "Test R-Squared:  0.797207\n",
      "Mean Absolute Error:  25892.340911\n",
      "Root mean suared error:  37163.987241\n"
     ]
    }
   ],
   "source": [
    "y_pred_Ridge = bestModel_Ridge.predict(x_test_scaled)\n",
    "R_squared_Ridge = round(bestModel_Ridge.score(x_test_scaled, y_test), 6)\n",
    "print(\"Training R-Squared: \", round(bestModel_Ridge.score(x_train_scaled, y_train),6))\n",
    "print(\"Test R-Squared: \", R_squared_Ridge)\n",
    "MSE_Ridge = round(mean_squared_error(y_test, y_pred_Ridge),6)\n",
    "MAE_Ridge = round(mean_absolute_error(y_test, y_pred_Ridge),6)\n",
    "RMSE_Ridge = round(np.sqrt(MSE_Ridge),6)\n",
    "print(\"Mean Absolute Error: \", MAE_Ridge)\n",
    "print(\"Root mean suared error: \", RMSE_Ridge)"
   ]
  },
  {
   "cell_type": "code",
   "execution_count": 92,
   "id": "12a9e646",
   "metadata": {},
   "outputs": [
    {
     "name": "stdout",
     "output_type": "stream",
     "text": [
      "Wall time: 6min 3s\n",
      "{'criterion': 'absolute_error', 'min_samples_split': 4, 'n_estimators': 200}\n"
     ]
    }
   ],
   "source": [
    "from sklearn.ensemble import RandomForestRegressor\n",
    "Model_RandomForest = RandomForestRegressor(random_state=0, n_jobs=-1)\n",
    "param_grid = [    \n",
    "    {'n_estimators':[100,50,200,300],\n",
    "     'criterion': ['squared_error', 'absolute_error'],\n",
    "     'min_samples_split':[2, 3,4,5]\n",
    "    }\n",
    "]\n",
    "grid = GridSearchCV(Model_RandomForest, param_grid, cv =10,n_jobs=-1)\n",
    "%time grid.fit(x_train_scaled, y_train)\n",
    "print(grid.best_params_)\n",
    "bestModel_RandomForest = grid.best_estimator_\n",
    "pickle.dump(bestModel_RandomForest, open('Housing_RandomForest.pkl', 'wb'))\n",
    "#pickled_model_RandomForest = pickle.load(open('Housing_RandomForest.pkl', 'rb'))\n"
   ]
  },
  {
   "cell_type": "code",
   "execution_count": 93,
   "id": "eab6d0dd",
   "metadata": {},
   "outputs": [
    {
     "name": "stdout",
     "output_type": "stream",
     "text": [
      "Training R-Squared:  0.963347\n",
      "Test R-Squared:  0.863906\n",
      "Mean Absolute Error:  20635.664786\n",
      "Root mean suared error:  30445.021604\n"
     ]
    }
   ],
   "source": [
    "y_pred_RandomForest = bestModel_RandomForest.predict(x_test_scaled)\n",
    "R_squared_RandomForest = round(bestModel_RandomForest.score(x_test_scaled, y_test), 6)\n",
    "print(\"Training R-Squared: \", round(bestModel_RandomForest.score(x_train_scaled, y_train),6))\n",
    "print(\"Test R-Squared: \", R_squared_RandomForest)\n",
    "MSE_RandomForest = round(mean_squared_error(y_test, y_pred_RandomForest),6)\n",
    "MAE_RandomForest = round(mean_absolute_error(y_test, y_pred_RandomForest),6)\n",
    "RMSE_RandomForest = round(np.sqrt(MSE_RandomForest),6)\n",
    "print(\"Mean Absolute Error: \", MAE_RandomForest)\n",
    "print(\"Root mean suared error: \", RMSE_RandomForest)"
   ]
  },
  {
   "cell_type": "code",
   "execution_count": 94,
   "id": "2ce917f5",
   "metadata": {},
   "outputs": [
    {
     "data": {
      "text/plain": [
       "array([0.48166197, 0.04565872, 0.20320458, 0.01206786, 0.25740687])"
      ]
     },
     "execution_count": 94,
     "metadata": {},
     "output_type": "execute_result"
    }
   ],
   "source": [
    "bestModel_RandomForest.feature_importances_"
   ]
  },
  {
   "cell_type": "code",
   "execution_count": 160,
   "id": "31197347",
   "metadata": {},
   "outputs": [
    {
     "name": "stdout",
     "output_type": "stream",
     "text": [
      "\n",
      "for degree =  2\n",
      "Training R-Squared:  0.84703\n",
      "Test R-Squared:  0.870893\n",
      "Mean Absolute Error:  21423.170043\n",
      "Root mean suared error:  29653.13119\n",
      "\n",
      "for degree =  3\n",
      "Training R-Squared:  0.867963\n",
      "Test R-Squared:  0.865557\n",
      "Mean Absolute Error:  21026.39847\n",
      "Root mean suared error:  30259.795146\n",
      "\n",
      "for degree =  4\n",
      "Training R-Squared:  0.885474\n",
      "Test R-Squared:  0.86393\n",
      "Mean Absolute Error:  20812.851066\n",
      "Root mean suared error:  30442.26385\n",
      "\n",
      "for degree =  5\n",
      "Training R-Squared:  0.899216\n",
      "Test R-Squared:  0.775688\n",
      "Mean Absolute Error:  22775.366282\n",
      "Root mean suared error:  39086.111518\n"
     ]
    }
   ],
   "source": [
    "dict_tem ={}\n",
    "for i in range(2,6):\n",
    "    Poly_Features = PolynomialFeatures(i)\n",
    "    X_train_poly = Poly_Features.fit_transform(x_train_scaled)\n",
    "    X_test_poly = Poly_Features.fit_transform(x_test_scaled)\n",
    "    Model_Poly = LinearRegression( n_jobs=-1)\n",
    "    Model_Poly.fit(X_train_poly,y_train)\n",
    "    y_pred_Poly = Model_Poly.predict(X_test_poly)\n",
    "    print()\n",
    "    print(\"for degree = \", i)\n",
    "\n",
    "    print(\"Training R-Squared: \",round( Model_Poly.score(X_train_poly, y_train),6))\n",
    "    print(\"Test R-Squared: \", round(Model_Poly.score(X_test_poly, y_test),6))\n",
    "    R_squared_Poly_T= round( Model_Poly.score(X_train_poly, y_train),6)\n",
    "    R_squared_Poly = Model_Poly.score(X_test_poly, y_test)\n",
    "    MSE_Poly = round(mean_squared_error(y_test, y_pred_Poly),6)\n",
    "    MAE_Poly = round(mean_absolute_error(y_test, y_pred_Poly),6)\n",
    "    RMSE_Poly = round(np.sqrt(MSE_Poly),6)\n",
    "    print(\"Mean Absolute Error: \", MAE_Poly)\n",
    "    print(\"Root mean suared error: \", RMSE_Poly)\n",
    "    dict_tem[i-1]= [i,R_squared_Poly_T,R_squared_Poly,RMSE_Poly,MAE_Poly] \n",
    "#pickle.dump(Model_Poly, open('Housing_Poly.pkl', 'wb'))\n",
    "#pickled_model_Poly = pickle.load(open('Housing_Poly.pkl', 'rb')\n",
    "    "
   ]
  },
  {
   "cell_type": "code",
   "execution_count": 161,
   "id": "6ecc7c21",
   "metadata": {},
   "outputs": [
    {
     "data": {
      "text/plain": [
       "{1: [2, 0.84703, 0.8708933555176773, 29653.13119, 21423.170043],\n",
       " 2: [3, 0.867963, 0.8655566135959549, 30259.795146, 21026.39847],\n",
       " 3: [4, 0.885474, 0.8639303187508632, 30442.26385, 20812.851066],\n",
       " 4: [5, 0.899216, 0.77568805068789, 39086.111518, 22775.366282]}"
      ]
     },
     "execution_count": 161,
     "metadata": {},
     "output_type": "execute_result"
    }
   ],
   "source": [
    "dict_tem"
   ]
  },
  {
   "cell_type": "code",
   "execution_count": 162,
   "id": "054ddab3",
   "metadata": {},
   "outputs": [],
   "source": [
    "import pandas as pd\n",
    "Results = pd.DataFrame(dict_tem)\n",
    "# Results[\"Degree\"] = dict_tem.keys()\n",
    "# Results[\"R_square\"] = dict_tem.values()"
   ]
  },
  {
   "cell_type": "code",
   "execution_count": 163,
   "id": "5e8b87cb",
   "metadata": {},
   "outputs": [
    {
     "data": {
      "text/html": [
       "<div>\n",
       "<style scoped>\n",
       "    .dataframe tbody tr th:only-of-type {\n",
       "        vertical-align: middle;\n",
       "    }\n",
       "\n",
       "    .dataframe tbody tr th {\n",
       "        vertical-align: top;\n",
       "    }\n",
       "\n",
       "    .dataframe thead th {\n",
       "        text-align: right;\n",
       "    }\n",
       "</style>\n",
       "<table border=\"1\" class=\"dataframe\">\n",
       "  <thead>\n",
       "    <tr style=\"text-align: right;\">\n",
       "      <th></th>\n",
       "      <th>1</th>\n",
       "      <th>2</th>\n",
       "      <th>3</th>\n",
       "      <th>4</th>\n",
       "    </tr>\n",
       "  </thead>\n",
       "  <tbody>\n",
       "    <tr>\n",
       "      <th>0</th>\n",
       "      <td>2.000000</td>\n",
       "      <td>3.000000</td>\n",
       "      <td>4.000000</td>\n",
       "      <td>5.000000</td>\n",
       "    </tr>\n",
       "    <tr>\n",
       "      <th>1</th>\n",
       "      <td>0.847030</td>\n",
       "      <td>0.867963</td>\n",
       "      <td>0.885474</td>\n",
       "      <td>0.899216</td>\n",
       "    </tr>\n",
       "    <tr>\n",
       "      <th>2</th>\n",
       "      <td>0.870893</td>\n",
       "      <td>0.865557</td>\n",
       "      <td>0.863930</td>\n",
       "      <td>0.775688</td>\n",
       "    </tr>\n",
       "    <tr>\n",
       "      <th>3</th>\n",
       "      <td>29653.131190</td>\n",
       "      <td>30259.795146</td>\n",
       "      <td>30442.263850</td>\n",
       "      <td>39086.111518</td>\n",
       "    </tr>\n",
       "    <tr>\n",
       "      <th>4</th>\n",
       "      <td>21423.170043</td>\n",
       "      <td>21026.398470</td>\n",
       "      <td>20812.851066</td>\n",
       "      <td>22775.366282</td>\n",
       "    </tr>\n",
       "  </tbody>\n",
       "</table>\n",
       "</div>"
      ],
      "text/plain": [
       "              1             2             3             4\n",
       "0      2.000000      3.000000      4.000000      5.000000\n",
       "1      0.847030      0.867963      0.885474      0.899216\n",
       "2      0.870893      0.865557      0.863930      0.775688\n",
       "3  29653.131190  30259.795146  30442.263850  39086.111518\n",
       "4  21423.170043  21026.398470  20812.851066  22775.366282"
      ]
     },
     "execution_count": 163,
     "metadata": {},
     "output_type": "execute_result"
    }
   ],
   "source": [
    "Results.head() "
   ]
  },
  {
   "cell_type": "code",
   "execution_count": 164,
   "id": "a5de7957",
   "metadata": {},
   "outputs": [],
   "source": [
    "R = Results.transpose()"
   ]
  },
  {
   "cell_type": "code",
   "execution_count": 165,
   "id": "20deef1c",
   "metadata": {},
   "outputs": [],
   "source": [
    "R.set_axis( ['Degree','R_square_train','R_square_test','RMSE','MAE'], axis='columns', inplace = True)"
   ]
  },
  {
   "cell_type": "code",
   "execution_count": 166,
   "id": "b3848d68",
   "metadata": {},
   "outputs": [
    {
     "data": {
      "text/html": [
       "<div>\n",
       "<style scoped>\n",
       "    .dataframe tbody tr th:only-of-type {\n",
       "        vertical-align: middle;\n",
       "    }\n",
       "\n",
       "    .dataframe tbody tr th {\n",
       "        vertical-align: top;\n",
       "    }\n",
       "\n",
       "    .dataframe thead th {\n",
       "        text-align: right;\n",
       "    }\n",
       "</style>\n",
       "<table border=\"1\" class=\"dataframe\">\n",
       "  <thead>\n",
       "    <tr style=\"text-align: right;\">\n",
       "      <th></th>\n",
       "      <th>Degree</th>\n",
       "      <th>R_square_train</th>\n",
       "      <th>R_square_test</th>\n",
       "      <th>RMSE</th>\n",
       "      <th>MAE</th>\n",
       "    </tr>\n",
       "  </thead>\n",
       "  <tbody>\n",
       "    <tr>\n",
       "      <th>1</th>\n",
       "      <td>2.0</td>\n",
       "      <td>0.847030</td>\n",
       "      <td>0.870893</td>\n",
       "      <td>29653.131190</td>\n",
       "      <td>21423.170043</td>\n",
       "    </tr>\n",
       "    <tr>\n",
       "      <th>2</th>\n",
       "      <td>3.0</td>\n",
       "      <td>0.867963</td>\n",
       "      <td>0.865557</td>\n",
       "      <td>30259.795146</td>\n",
       "      <td>21026.398470</td>\n",
       "    </tr>\n",
       "    <tr>\n",
       "      <th>3</th>\n",
       "      <td>4.0</td>\n",
       "      <td>0.885474</td>\n",
       "      <td>0.863930</td>\n",
       "      <td>30442.263850</td>\n",
       "      <td>20812.851066</td>\n",
       "    </tr>\n",
       "    <tr>\n",
       "      <th>4</th>\n",
       "      <td>5.0</td>\n",
       "      <td>0.899216</td>\n",
       "      <td>0.775688</td>\n",
       "      <td>39086.111518</td>\n",
       "      <td>22775.366282</td>\n",
       "    </tr>\n",
       "  </tbody>\n",
       "</table>\n",
       "</div>"
      ],
      "text/plain": [
       "   Degree  R_square_train  R_square_test          RMSE           MAE\n",
       "1     2.0        0.847030       0.870893  29653.131190  21423.170043\n",
       "2     3.0        0.867963       0.865557  30259.795146  21026.398470\n",
       "3     4.0        0.885474       0.863930  30442.263850  20812.851066\n",
       "4     5.0        0.899216       0.775688  39086.111518  22775.366282"
      ]
     },
     "execution_count": 166,
     "metadata": {},
     "output_type": "execute_result"
    }
   ],
   "source": [
    "R.head()"
   ]
  },
  {
   "cell_type": "code",
   "execution_count": 167,
   "id": "a478249f",
   "metadata": {},
   "outputs": [
    {
     "data": {
      "image/png": "[encoded data removed]",
      "text/plain": [
       "<Figure size 648x576 with 1 Axes>"
      ]
     },
     "metadata": {
      "needs_background": "light"
     },
     "output_type": "display_data"
    }
   ],
   "source": [
    "import pandas as pd\n",
    "import matplotlib.pyplot as mp\n",
    "\n",
    "R.plot(x=\"Degree\", y=['R_square_train','R_square_test'], kind=\"bar\", figsize=(9, 8))\n",
    "\n",
    "# print bar graph\n",
    "mp.show()\n"
   ]
  },
  {
   "cell_type": "markdown",
   "id": "546405ee",
   "metadata": {},
   "source": [
    "By observing the above bar gragh we can clearly the polynomial regression with degree 3 is performing better in linear models. After the degree 3 it tends to overfit."
   ]
  }
 ],
 "metadata": {
  "kernelspec": {
   "display_name": "Python 3 (ipykernel)",
   "language": "python",
   "name": "python3"
  },
  "language_info": {
   "codemirror_mode": {
    "name": "ipython",
    "version": 3
   },
   "file_extension": ".py",
   "mimetype": "text/x-python",
   "name": "python",
   "nbconvert_exporter": "python",
   "pygments_lexer": "ipython3",
   "version": "3.10.9"
  }
 },
 "nbformat": 4,
 "nbformat_minor": 5
}
