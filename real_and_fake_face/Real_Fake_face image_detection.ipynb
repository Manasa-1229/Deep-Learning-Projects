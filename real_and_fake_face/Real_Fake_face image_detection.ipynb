{
 "cells": [
  {
   "cell_type": "markdown",
   "id": "ca3a9e6e",
   "metadata": {},
   "source": [
    "<ul><b> Manasa Gonuguntla,<br> Ani Monika Susan Raviraj,<br> Manas Paul</b>\n"
   ]
  },
  {
   "cell_type": "markdown",
   "id": "196ff49d",
   "metadata": {},
   "source": [
    "<h2 style=\"text-align: center;\">Final Project</h2>\n",
    "<h3 style=\"text-align: center;\">INSY-5376-001 </h3>\n",
    "<h3 style=\"text-align: center;\">Big Data Analytics</h3>"
   ]
  },
  {
   "cell_type": "markdown",
   "id": "dc638ece",
   "metadata": {},
   "source": [
    "<ul>Real and fake image detection is an important problem in computer vision and has a wide range of applications, including social media content moderation, forensic investigation, and image authentication. The aim of this project is to develop a deep learning model that can accurately classify images as real or fake.\n",
    "The project will involve training  deep convolutional neural networks (CNN) on a dataset of labeled images, where each image is annotated as either real or fake. The dataset will be split into training, validation, and testing sets, and the model will be trained using the training set and evaluated using the validation and testing sets\n"
   ]
  },
  {
   "cell_type": "markdown",
   "id": "7ee7c2ff",
   "metadata": {},
   "source": [
    "<ul><li>In this project, we have used a dataset that contains 1540 real and fake images with different difficulty levels for the fake images. At the first sigh, the hard to detect fake images are very difficult to detect by manual observation. even the images that have medium level of difficulty are not easy to detect. moreover, some real images looks like fake image due to their appearance. in overall, this task is challenging.\n",
    "    <li>To begin with, we shall try to develop our own deep learning models and later we shall also try to implement some pr trained models using transfer learning techniques\n",
    "    "
   ]
  },
  {
   "cell_type": "code",
   "execution_count": 231,
   "id": "28a99e62",
   "metadata": {},
   "outputs": [],
   "source": [
    "#import the required modules\n",
    "import tensorflow as tf\n",
    "from tensorflow.keras.layers import Input, Dense, Conv2D, MaxPooling2D, Flatten, LSTM, Embedding, concatenate\n",
    "from tensorflow.keras.models import Model\n",
    "from tensorflow.keras.preprocessing.image import load_img, img_to_array\n",
    "from tensorflow.keras.preprocessing.sequence import pad_sequences\n",
    "from tensorflow.keras.utils import to_categorical\n",
    "import numpy as np\n",
    "import os\n",
    "from PIL import Image\n",
    "import pandas as pd\n",
    "import numpy as np\n",
    "import tensorflow as tf\n",
    "from tensorflow import keras\n",
    "import matplotlib.pyplot as plt"
   ]
  },
  {
   "cell_type": "code",
   "execution_count": 232,
   "id": "38d3729c",
   "metadata": {},
   "outputs": [],
   "source": [
    "#set the warning messages off\n",
    "import warnings\n",
    "warnings.filterwarnings('ignore')"
   ]
  },
  {
   "cell_type": "code",
   "execution_count": 233,
   "id": "48472803",
   "metadata": {},
   "outputs": [],
   "source": [
    "#use a pre generated function to get list of links for images\n",
    "from PIL import Image\n",
    "import get_link_list\n",
    "real_links, real_names = get_link_list.lists('D:/big data project/archive (1)/real_and_fake_face_detection/real_and_fake_face/training_real/')\n",
    "fake_links, fake_names = get_link_list.lists('D:/big data project/archive (1)/real_and_fake_face_detection/real_and_fake_face/training_fake/')\n"
   ]
  },
  {
   "cell_type": "code",
   "execution_count": 234,
   "id": "83eea47b",
   "metadata": {},
   "outputs": [
    {
     "data": {
      "text/plain": [
       "(600, 600, 3)"
      ]
     },
     "execution_count": 234,
     "metadata": {},
     "output_type": "execute_result"
    }
   ],
   "source": [
    "#visualize the shape of one image\n",
    "image = Image.open(real_links[100])\n",
    "img_array = img_to_array(image)\n",
    "img_array.shape"
   ]
  },
  {
   "cell_type": "markdown",
   "id": "2df433e6",
   "metadata": {},
   "source": [
    "<ul><li>We shall write a function to collect the images by looping on th links and convert them into numpy arrays of a specified size.The function visits each image in the link list and converts it into numpy array using keras.preprocessing.image function.After that it normalizes the pixel values and appends the arrayas to train and test sets."
   ]
  },
  {
   "cell_type": "code",
   "execution_count": 235,
   "id": "a86ef3b9",
   "metadata": {},
   "outputs": [],
   "source": [
    "# Define function to preprocess images\n",
    "def preprocess_images(real_links,fake_links,IMAGE_SIZE):\n",
    "    images = []\n",
    "    labels=[]\n",
    "    for file in real_links:\n",
    "        \n",
    "        # Load image\n",
    "#         image = Image.open(file)\n",
    "#         img = image.resize((IMAGE_SIZE, IMAGE_SIZE,3))\n",
    "        img = load_img(file, target_size=(IMAGE_SIZE, IMAGE_SIZE))\n",
    "        # Convert image to numpy array\n",
    "        img_array = img_to_array(img)\n",
    "        # Scale pixel values to range [0, 1]\n",
    "        img_array /= 255.0\n",
    "        # Append image to list of images\n",
    "        images.append(img_array)\n",
    "        labels.append(1)\n",
    "    for file in fake_links:\n",
    "        \n",
    "        # Load image\n",
    "#         image = Image.open(file)\n",
    "#         img = image.resize((IMAGE_SIZE, IMAGE_SIZE,3))\n",
    "        img = load_img(file, target_size=(IMAGE_SIZE, IMAGE_SIZE))\n",
    "        # Convert image to numpy array\n",
    "        img_array = img_to_array(img)\n",
    "        # Scale pixel values to range [0, 1]\n",
    "        img_array /= 255.0\n",
    "        # Append image to list of images\n",
    "        images.append(img_array)\n",
    "        labels.append(0)\n",
    "      \n",
    "    # Convert list of images to numpy array\n",
    "    images = np.array(images)\n",
    "    labels=np.array(labels)\n",
    "    return images, labels\n"
   ]
  },
  {
   "cell_type": "code",
   "execution_count": 237,
   "id": "edfa727f",
   "metadata": {},
   "outputs": [],
   "source": [
    "#preprocess images and assgn them to X and y sets\n",
    "X,y=preprocess_images(real_links,fake_links,64)"
   ]
  },
  {
   "cell_type": "code",
   "execution_count": 238,
   "id": "01e04df9",
   "metadata": {},
   "outputs": [],
   "source": [
    "#Save values using pickle module\n",
    "# import pickle\n",
    "# pickle.dump(X, open('real_and_fake_faces.pkl','wb'))\n",
    "# pickle.dump(y, open('labels_face_real_and_fake.pkl','wb'))"
   ]
  },
  {
   "cell_type": "code",
   "execution_count": 327,
   "id": "302addfd",
   "metadata": {},
   "outputs": [],
   "source": [
    "#retrive the X and y objects by unpickling them\n",
    "import pickle\n",
    "X = pickle.load(open('real_and_fake_faces.pkl','rb'))\n",
    "y = pickle.load(open('labels_face_real_and_fake.pkl','rb'))"
   ]
  },
  {
   "cell_type": "code",
   "execution_count": 328,
   "id": "d1c75afd",
   "metadata": {},
   "outputs": [],
   "source": [
    "#split the X and y sets in train and test sets\n",
    "from sklearn.model_selection import train_test_split\n",
    "X_train, X_test, y_train, y_test = train_test_split(X,y, stratify=y, random_state=0)"
   ]
  },
  {
   "cell_type": "code",
   "execution_count": 329,
   "id": "5ac907d5",
   "metadata": {},
   "outputs": [
    {
     "data": {
      "text/plain": [
       "(1530, 64, 64, 3)"
      ]
     },
     "execution_count": 329,
     "metadata": {},
     "output_type": "execute_result"
    }
   ],
   "source": [
    "#visualize the shape\n",
    "X_train.shape"
   ]
  },
  {
   "cell_type": "markdown",
   "id": "e135a270",
   "metadata": {},
   "source": [
    "<ul><li>Now we shall build a CNN model to make predictions on our dataset"
   ]
  },
  {
   "cell_type": "code",
   "execution_count": 335,
   "id": "50ebd91f",
   "metadata": {},
   "outputs": [],
   "source": [
    "#define the CNN model\n",
    "from keras import layers\n",
    "from keras import models \n",
    "from keras import backend as K\n",
    "model_1 = models.Sequential() \n",
    "model_1.add(layers.Conv2D(32, (3, 3), activation='relu',input_shape=(64, 64, 3)))\n",
    "model_1.add(layers.MaxPooling2D((2, 2)))\n",
    "model_1.add(layers.Conv2D(64, (3, 3), activation='relu'))\n",
    "model_1.add(layers.MaxPooling2D((2, 2)))\n",
    "model_1.add(layers.Conv2D(128, (3, 3), activation='relu'))\n",
    "model_1.add(layers.MaxPooling2D((2, 2))) \n",
    "model_1.add(layers.Conv2D(256, (3, 3), activation='relu'))\n",
    "model_1.add(layers.Conv2D(512, (3, 3), activation='relu'))\n",
    "model_1.add(layers.Flatten())\n",
    "model_1.add(layers.Dense(1, activation='sigmoid')) "
   ]
  },
  {
   "cell_type": "code",
   "execution_count": 336,
   "id": "003f73b9",
   "metadata": {},
   "outputs": [
    {
     "name": "stdout",
     "output_type": "stream",
     "text": [
      "Model: \"sequential_1\"\n",
      "_________________________________________________________________\n",
      " Layer (type)                Output Shape              Param #   \n",
      "=================================================================\n",
      " conv2d_93 (Conv2D)          (None, 62, 62, 32)        896       \n",
      "                                                                 \n",
      " max_pooling2d_80 (MaxPoolin  (None, 31, 31, 32)       0         \n",
      " g2D)                                                            \n",
      "                                                                 \n",
      " conv2d_94 (Conv2D)          (None, 29, 29, 64)        18496     \n",
      "                                                                 \n",
      " max_pooling2d_81 (MaxPoolin  (None, 14, 14, 64)       0         \n",
      " g2D)                                                            \n",
      "                                                                 \n",
      " conv2d_95 (Conv2D)          (None, 12, 12, 128)       73856     \n",
      "                                                                 \n",
      " max_pooling2d_82 (MaxPoolin  (None, 6, 6, 128)        0         \n",
      " g2D)                                                            \n",
      "                                                                 \n",
      " conv2d_96 (Conv2D)          (None, 4, 4, 256)         295168    \n",
      "                                                                 \n",
      " conv2d_97 (Conv2D)          (None, 2, 2, 512)         1180160   \n",
      "                                                                 \n",
      " flatten_37 (Flatten)        (None, 2048)              0         \n",
      "                                                                 \n",
      " dense_134 (Dense)           (None, 1)                 2049      \n",
      "                                                                 \n",
      "=================================================================\n",
      "Total params: 1,570,625\n",
      "Trainable params: 1,570,625\n",
      "Non-trainable params: 0\n",
      "_________________________________________________________________\n"
     ]
    }
   ],
   "source": [
    "#visualize the structure of model\n",
    "model_1.summary()"
   ]
  },
  {
   "cell_type": "code",
   "execution_count": 337,
   "id": "bf1fa30b",
   "metadata": {},
   "outputs": [],
   "source": [
    "#define a callback function to save the best model\n",
    "callback = [\n",
    "    keras.callbacks.ModelCheckpoint(\n",
    "        filepath=\"checkpoint_path.keras\",\n",
    "        monitor=\"val_loss\",\n",
    "        save_best_only=True,\n",
    "    )]"
   ]
  },
  {
   "cell_type": "code",
   "execution_count": 338,
   "id": "85721a62",
   "metadata": {},
   "outputs": [],
   "source": [
    "#compile the model\n",
    "model_1.compile(optimizer='rmsprop', loss='binary_crossentropy', metrics=['accuracy'])"
   ]
  },
  {
   "cell_type": "code",
   "execution_count": 339,
   "id": "f297212c",
   "metadata": {},
   "outputs": [
    {
     "name": "stdout",
     "output_type": "stream",
     "text": [
      "Epoch 1/10\n",
      "39/39 [==============================] - 38s 770ms/step - loss: 0.7033 - accuracy: 0.5270 - val_loss: 0.6932 - val_accuracy: 0.5000\n",
      "Epoch 2/10\n",
      "39/39 [==============================] - 29s 741ms/step - loss: 0.6911 - accuracy: 0.5368 - val_loss: 0.6927 - val_accuracy: 0.5000\n",
      "Epoch 3/10\n",
      "39/39 [==============================] - 30s 769ms/step - loss: 0.7030 - accuracy: 0.5588 - val_loss: 0.6817 - val_accuracy: 0.5817\n",
      "Epoch 4/10\n",
      "39/39 [==============================] - 31s 785ms/step - loss: 0.6740 - accuracy: 0.5948 - val_loss: 0.6624 - val_accuracy: 0.6046\n",
      "Epoch 5/10\n",
      "39/39 [==============================] - 29s 739ms/step - loss: 0.6664 - accuracy: 0.6201 - val_loss: 0.6652 - val_accuracy: 0.6242\n",
      "Epoch 6/10\n",
      "39/39 [==============================] - 30s 764ms/step - loss: 0.6497 - accuracy: 0.6364 - val_loss: 0.6639 - val_accuracy: 0.5980\n",
      "Epoch 7/10\n",
      "39/39 [==============================] - 29s 740ms/step - loss: 0.6284 - accuracy: 0.6552 - val_loss: 0.9912 - val_accuracy: 0.4935\n",
      "Epoch 8/10\n",
      "39/39 [==============================] - 30s 759ms/step - loss: 0.6074 - accuracy: 0.6830 - val_loss: 0.6611 - val_accuracy: 0.6176\n",
      "Epoch 9/10\n",
      "39/39 [==============================] - 28s 731ms/step - loss: 0.5772 - accuracy: 0.7002 - val_loss: 0.6597 - val_accuracy: 0.6144\n",
      "Epoch 10/10\n",
      "39/39 [==============================] - 28s 722ms/step - loss: 0.5165 - accuracy: 0.7549 - val_loss: 0.7935 - val_accuracy: 0.5915\n"
     ]
    }
   ],
   "source": [
    "#fit model on training data\n",
    "history=model_1.fit(X_train, y_train, epochs=10, batch_size=32, validation_split=.2,callbacks=callback)"
   ]
  },
  {
   "cell_type": "markdown",
   "id": "4033075d",
   "metadata": {},
   "source": [
    "<ul><li>We shall build a second model and check its performance"
   ]
  },
  {
   "cell_type": "code",
   "execution_count": 340,
   "id": "7107fc44",
   "metadata": {},
   "outputs": [],
   "source": [
    "#initialize the model with three Conv layers\n",
    "from keras import layers\n",
    "from keras import models \n",
    "from keras import backend as K\n",
    "inputs = keras.Input(shape=(64, 64, 3))\n",
    "x = layers.Conv2D(filters=64, kernel_size=3, activation=\"relu\")(inputs)\n",
    "x = MaxPooling2D(2,2)(x)\n",
    "x = layers.Conv2D(filters=512, kernel_size=3, activation=\"relu\")(inputs)\n",
    "x = MaxPooling2D(2,2)(x)\n",
    "x = BatchNormalization()(x)\n",
    "x = layers.Conv2D(filters=16, kernel_size=3, activation=\"relu\")(inputs)\n",
    "x = Dropout(0.5)(x)\n",
    "x = layers.Flatten()(x)\n",
    "outputs = layers.Dense(1, activation=\"sigmoid\")(x)\n",
    "model_2 = keras.Model(inputs=inputs, outputs=outputs)"
   ]
  },
  {
   "cell_type": "code",
   "execution_count": 341,
   "id": "80464a4a",
   "metadata": {},
   "outputs": [],
   "source": [
    "#compile the model\n",
    "model_2.compile(loss=\"binary_crossentropy\", optimizer=\"adam\",metrics=[\"accuracy\"])"
   ]
  },
  {
   "cell_type": "code",
   "execution_count": 342,
   "id": "3a4db3b0",
   "metadata": {},
   "outputs": [
    {
     "name": "stdout",
     "output_type": "stream",
     "text": [
      "Epoch 1/30\n",
      "44/44 [==============================] - 21s 265ms/step - loss: 0.7284 - accuracy: 0.5047 - val_loss: 0.6917 - val_accuracy: 0.5556\n",
      "Epoch 2/30\n",
      "44/44 [==============================] - 9s 210ms/step - loss: 0.6639 - accuracy: 0.6325 - val_loss: 0.6696 - val_accuracy: 0.6275\n",
      "Epoch 3/30\n",
      "44/44 [==============================] - 10s 218ms/step - loss: 0.6162 - accuracy: 0.6812 - val_loss: 0.6587 - val_accuracy: 0.6144\n",
      "Epoch 4/30\n",
      "44/44 [==============================] - 9s 212ms/step - loss: 0.5460 - accuracy: 0.7444 - val_loss: 0.6381 - val_accuracy: 0.6144\n",
      "Epoch 5/30\n",
      "44/44 [==============================] - 9s 206ms/step - loss: 0.4921 - accuracy: 0.7894 - val_loss: 0.6734 - val_accuracy: 0.5882\n",
      "Epoch 6/30\n",
      "44/44 [==============================] - 9s 217ms/step - loss: 0.4417 - accuracy: 0.8221 - val_loss: 0.6199 - val_accuracy: 0.6797\n",
      "Epoch 7/30\n",
      "44/44 [==============================] - 9s 213ms/step - loss: 0.3817 - accuracy: 0.8584 - val_loss: 0.6265 - val_accuracy: 0.6667\n",
      "Epoch 8/30\n",
      "44/44 [==============================] - 9s 207ms/step - loss: 0.3444 - accuracy: 0.8867 - val_loss: 0.7181 - val_accuracy: 0.6144\n",
      "Epoch 9/30\n",
      "44/44 [==============================] - 9s 211ms/step - loss: 0.3109 - accuracy: 0.9020 - val_loss: 0.6453 - val_accuracy: 0.6471\n",
      "Epoch 10/30\n",
      "44/44 [==============================] - 9s 209ms/step - loss: 0.2764 - accuracy: 0.9296 - val_loss: 0.6986 - val_accuracy: 0.6340\n",
      "Epoch 11/30\n",
      "44/44 [==============================] - 9s 212ms/step - loss: 0.2368 - accuracy: 0.9419 - val_loss: 0.6646 - val_accuracy: 0.6405\n",
      "Epoch 12/30\n",
      "44/44 [==============================] - 10s 218ms/step - loss: 0.2106 - accuracy: 0.9564 - val_loss: 0.7477 - val_accuracy: 0.6144\n",
      "Epoch 13/30\n",
      "44/44 [==============================] - 9s 213ms/step - loss: 0.2280 - accuracy: 0.9397 - val_loss: 0.6792 - val_accuracy: 0.6405\n",
      "Epoch 14/30\n",
      "44/44 [==============================] - 9s 205ms/step - loss: 0.1917 - accuracy: 0.9506 - val_loss: 0.6840 - val_accuracy: 0.6144\n",
      "Epoch 15/30\n",
      "44/44 [==============================] - 9s 211ms/step - loss: 0.1595 - accuracy: 0.9666 - val_loss: 0.7746 - val_accuracy: 0.6209\n",
      "Epoch 16/30\n",
      "44/44 [==============================] - 9s 202ms/step - loss: 0.1506 - accuracy: 0.9753 - val_loss: 0.7087 - val_accuracy: 0.6405\n",
      "Epoch 17/30\n",
      "44/44 [==============================] - 9s 210ms/step - loss: 0.1309 - accuracy: 0.9739 - val_loss: 0.7150 - val_accuracy: 0.6275\n",
      "Epoch 18/30\n",
      "44/44 [==============================] - 10s 217ms/step - loss: 0.1218 - accuracy: 0.9826 - val_loss: 0.7705 - val_accuracy: 0.6471\n",
      "Epoch 19/30\n",
      "44/44 [==============================] - 9s 206ms/step - loss: 0.1598 - accuracy: 0.9666 - val_loss: 0.7448 - val_accuracy: 0.6471\n",
      "Epoch 20/30\n",
      "44/44 [==============================] - 9s 207ms/step - loss: 0.1235 - accuracy: 0.9847 - val_loss: 0.7769 - val_accuracy: 0.6275\n",
      "Epoch 21/30\n",
      "44/44 [==============================] - 9s 204ms/step - loss: 0.1025 - accuracy: 0.9855 - val_loss: 0.7826 - val_accuracy: 0.6405\n",
      "Epoch 22/30\n",
      "44/44 [==============================] - 9s 209ms/step - loss: 0.0910 - accuracy: 0.9840 - val_loss: 0.7926 - val_accuracy: 0.6405\n",
      "Epoch 23/30\n",
      "44/44 [==============================] - 9s 215ms/step - loss: 0.0806 - accuracy: 0.9935 - val_loss: 0.7601 - val_accuracy: 0.6340\n",
      "Epoch 24/30\n",
      "44/44 [==============================] - 10s 217ms/step - loss: 0.0768 - accuracy: 0.9898 - val_loss: 0.7780 - val_accuracy: 0.6536\n",
      "Epoch 25/30\n",
      "44/44 [==============================] - 10s 232ms/step - loss: 0.0736 - accuracy: 0.9920 - val_loss: 0.7962 - val_accuracy: 0.6340\n",
      "Epoch 26/30\n",
      "44/44 [==============================] - 10s 225ms/step - loss: 0.0687 - accuracy: 0.9913 - val_loss: 0.8174 - val_accuracy: 0.6340\n",
      "Epoch 27/30\n",
      "44/44 [==============================] - 10s 217ms/step - loss: 0.0589 - accuracy: 0.9956 - val_loss: 0.8248 - val_accuracy: 0.6340\n",
      "Epoch 28/30\n",
      "44/44 [==============================] - 10s 215ms/step - loss: 0.0560 - accuracy: 0.9964 - val_loss: 0.8405 - val_accuracy: 0.6275\n",
      "Epoch 29/30\n",
      "44/44 [==============================] - 10s 224ms/step - loss: 0.0520 - accuracy: 0.9978 - val_loss: 0.8610 - val_accuracy: 0.6405\n",
      "Epoch 30/30\n",
      "44/44 [==============================] - 10s 219ms/step - loss: 0.0539 - accuracy: 0.9935 - val_loss: 0.8555 - val_accuracy: 0.6275\n"
     ]
    }
   ],
   "source": [
    "#define callback method to save the best model\n",
    "callback = [\n",
    "    keras.callbacks.ModelCheckpoint(\n",
    "        filepath=\"checkpoint_path.keras\",\n",
    "        monitor=\"val_loss\",\n",
    "        save_best_only=True,\n",
    "    )]\n",
    "#fit the model with training data\n",
    "history_2=model_2.fit(X_train, y_train, epochs=30, batch_size=32, validation_split=.1,callbacks=callback)"
   ]
  },
  {
   "cell_type": "code",
   "execution_count": 343,
   "id": "0ccb60cd",
   "metadata": {},
   "outputs": [
    {
     "data": {
      "image/png": "[encoded data removed]",
      "text/plain": [
       "<Figure size 640x480 with 1 Axes>"
      ]
     },
     "metadata": {},
     "output_type": "display_data"
    },
    {
     "data": {
      "image/png": "[encoded data removed]",
      "text/plain": [
       "<Figure size 640x480 with 1 Axes>"
      ]
     },
     "metadata": {},
     "output_type": "display_data"
    }
   ],
   "source": [
    "#visualize the plots for training and validation scores\n",
    "import matplotlib.pyplot as plt\n",
    "accuracy = history_2.history[\"accuracy\"]\n",
    "val_accuracy = history_2.history[\"val_accuracy\"]\n",
    "loss = history_2.history[\"loss\"]\n",
    "val_loss = history_2.history[\"val_loss\"]\n",
    "epochs = range(1, len(accuracy) + 1)\n",
    "plt.plot(epochs, accuracy, \"g\", label=\"Training accuracy\")\n",
    "plt.plot(epochs, val_accuracy, \"r\", label=\"Validation accuracy\")\n",
    "plt.title(\"Training and validation accuracy\")\n",
    "plt.legend()\n",
    "plt.figure()\n",
    "plt.plot(epochs, loss, \"r\", label=\"Training loss\")\n",
    "plt.plot(epochs, val_loss, \"b\", label=\"Validation loss\")\n",
    "plt.title(\"Training and validation loss\")\n",
    "plt.legend()\n",
    "plt.show()"
   ]
  },
  {
   "cell_type": "markdown",
   "id": "474015a0",
   "metadata": {},
   "source": [
    "<ul><li>We can see a high degree of overfitting in th model. while the training accuracy reached near perfect level, the validation accuracy never went up above 65%. we tried techniques like Maxpooling, Batchnormalization and dropout with different combination of layers, but could not achieve better accuracy scores."
   ]
  },
  {
   "cell_type": "markdown",
   "id": "cb3f0bf1",
   "metadata": {},
   "source": [
    "<ul><li>Now we shall try to implement image augmentation in our training data to improve scores on unseen dataset."
   ]
  },
  {
   "cell_type": "code",
   "execution_count": 344,
   "id": "f9d58c3e",
   "metadata": {},
   "outputs": [],
   "source": [
    "#define the datagen for image augmentation\n",
    "from tensorflow.keras.preprocessing.image import ImageDataGenerator\n",
    "datagen = ImageDataGenerator(rotation_range=10, # randomly rotate images in the range (degrees, 0 to 180)\n",
    "                             zoom_range = 0.2, # Randomly zoom image\n",
    "                             width_shift_range=0.1, # randomly shift images horizontally (fraction of total width)\n",
    "                             height_shift_range=0.1, # randomly shift images vertically (fraction of total height)\n",
    "                             horizontal_flip=True, # randomly flip images horizontally\n",
    "                             vertical_flip=False) # Don't randomly flip images vertically\n",
    "          "
   ]
  },
  {
   "cell_type": "code",
   "execution_count": 345,
   "id": "a6dbdd54",
   "metadata": {},
   "outputs": [],
   "source": [
    "#fit datagen with training dataset\n",
    "datagen.fit(X_train)"
   ]
  },
  {
   "cell_type": "code",
   "execution_count": 347,
   "id": "4a9894f2",
   "metadata": {},
   "outputs": [],
   "source": [
    "#Define the CNN model\n",
    "inputs = keras.Input(shape=(64, 64, 3))\n",
    "x = layers.Conv2D(filters=32, kernel_size=3, activation=\"relu\")(inputs)\n",
    "x = layers.Conv2D(filters=64, kernel_size=3, activation=\"relu\")(x)\n",
    "x = MaxPooling2D(2,2)(x)\n",
    "x = layers.Conv2D(filters=128, kernel_size=3, activation=\"relu\")(x)\n",
    "x = MaxPooling2D(2,2)(x)\n",
    "x = layers.Conv2D(filters=32, kernel_size=3, activation=\"relu\")(x)\n",
    "x = Dropout(0.5)(x)\n",
    "x = layers.Flatten()(x)\n",
    "outputs = layers.Dense(1, activation=\"sigmoid\")(x)\n",
    "model_3 = keras.Model(inputs=inputs, outputs=outputs)"
   ]
  },
  {
   "cell_type": "code",
   "execution_count": 348,
   "id": "28acdc0d",
   "metadata": {},
   "outputs": [],
   "source": [
    "#compile the model\n",
    "model_3.compile(loss=\"binary_crossentropy\", optimizer=\"adam\",metrics=[\"accuracy\"])"
   ]
  },
  {
   "cell_type": "code",
   "execution_count": 351,
   "id": "65f7e314",
   "metadata": {},
   "outputs": [
    {
     "name": "stdout",
     "output_type": "stream",
     "text": [
      "(1377, 64, 64, 3) (153, 64, 64, 3) (1377,) (153,)\n"
     ]
    }
   ],
   "source": [
    "#create partitions for training and validation sets\n",
    "partition=int(len(X_train)*.9)\n",
    "X_train_part = X_train[:partition]\n",
    "X_val = X_train[partition:]\n",
    "y_train_part = y_train[:partition]\n",
    "y_val = y_train[partition:]\n",
    "print(X_train_part.shape, X_val.shape, y_train_part.shape, y_val.shape)"
   ]
  },
  {
   "cell_type": "code",
   "execution_count": 353,
   "id": "15e13074",
   "metadata": {},
   "outputs": [
    {
     "name": "stdout",
     "output_type": "stream",
     "text": [
      "Epoch 1/10\n",
      "43/43 [==============================] - 134s 3s/step - loss: 0.6922 - accuracy: 0.5265 - val_loss: 0.6978 - val_accuracy: 0.5000\n",
      "Epoch 2/10\n",
      "43/43 [==============================] - 121s 3s/step - loss: 0.6927 - accuracy: 0.5280 - val_loss: 0.6935 - val_accuracy: 0.5000\n",
      "Epoch 3/10\n",
      "43/43 [==============================] - 127s 3s/step - loss: 0.6922 - accuracy: 0.5280 - val_loss: 0.6934 - val_accuracy: 0.5000\n",
      "Epoch 4/10\n",
      "43/43 [==============================] - 133s 3s/step - loss: 0.6926 - accuracy: 0.5272 - val_loss: 0.6934 - val_accuracy: 0.5033\n",
      "Epoch 5/10\n",
      "43/43 [==============================] - 132s 3s/step - loss: 0.6925 - accuracy: 0.5265 - val_loss: 0.6937 - val_accuracy: 0.5000\n",
      "Epoch 6/10\n",
      "43/43 [==============================] - 119s 3s/step - loss: 0.6921 - accuracy: 0.5287 - val_loss: 0.6930 - val_accuracy: 0.5033\n",
      "Epoch 7/10\n",
      "43/43 [==============================] - 121s 3s/step - loss: 0.6923 - accuracy: 0.5287 - val_loss: 0.6948 - val_accuracy: 0.5000\n",
      "Epoch 8/10\n",
      "43/43 [==============================] - 88s 2s/step - loss: 0.6923 - accuracy: 0.5280 - val_loss: 0.6932 - val_accuracy: 0.5000\n",
      "Epoch 9/10\n",
      "43/43 [==============================] - 130s 3s/step - loss: 0.6919 - accuracy: 0.5265 - val_loss: 0.6936 - val_accuracy: 0.5065\n",
      "Epoch 10/10\n",
      "43/43 [==============================] - 126s 3s/step - loss: 0.6936 - accuracy: 0.5236 - val_loss: 0.6888 - val_accuracy: 0.5163\n"
     ]
    }
   ],
   "source": [
    "#fit the CNN model with augmented training data\n",
    "history_3=model_3.fit(datagen.flow(X_train_part,y_train_part, batch_size=32), # Default batch_size is 32. We set it here for clarity. \n",
    "          epochs=10, steps_per_epoch=len(X_train_part)/32,# Run same number of steps we would if we were not using a generator.\n",
    "          validation_data = (X_val,y_val))"
   ]
  },
  {
   "cell_type": "code",
   "execution_count": 354,
   "id": "93b53126",
   "metadata": {},
   "outputs": [
    {
     "data": {
      "image/png": "[encoded data removed]",
      "text/plain": [
       "<Figure size 640x480 with 1 Axes>"
      ]
     },
     "metadata": {},
     "output_type": "display_data"
    },
    {
     "data": {
      "text/plain": [
       "<Figure size 640x480 with 0 Axes>"
      ]
     },
     "metadata": {},
     "output_type": "display_data"
    }
   ],
   "source": [
    "#visualize the plots for training and validation scores\n",
    "import matplotlib.pyplot as plt\n",
    "accuracy = history_3.history[\"accuracy\"]\n",
    "val_accuracy = history_3.history[\"val_accuracy\"]\n",
    "epochs = range(1, len(accuracy) + 1)\n",
    "plt.plot(epochs, accuracy, \"g\", label=\"Training accuracy\")\n",
    "plt.plot(epochs, val_accuracy, \"r\", label=\"Validation accuracy\")\n",
    "plt.title(\"Training and validation accuracy\")\n",
    "plt.legend()\n",
    "plt.figure()\n",
    "\n",
    "plt.show()"
   ]
  },
  {
   "cell_type": "markdown",
   "id": "4d8d3e51",
   "metadata": {},
   "source": [
    "<ul><li>We can again observe that while the gap between training and validation scores are reduced and they are in sync, but the model is not able to achieve a good accuracy score "
   ]
  },
  {
   "cell_type": "markdown",
   "id": "f7925c39",
   "metadata": {},
   "source": [
    "<ul><li>Now we shall try to use pretrained models by using transfer learning techniques"
   ]
  },
  {
   "cell_type": "markdown",
   "id": "ed1c6c3c",
   "metadata": {},
   "source": [
    "### Using VGG16 Pretrained Model"
   ]
  },
  {
   "cell_type": "code",
   "execution_count": 59,
   "id": "2fa6768d",
   "metadata": {},
   "outputs": [],
   "source": [
    "#import the required modules and libraries\n",
    "import tensorflow as tf\n",
    "from tensorflow.keras.layers import Dense, Dropout\n",
    "from tensorflow.keras.optimizers import Adam\n",
    "from tensorflow.keras.preprocessing.image import ImageDataGenerator\n",
    "from tensorflow.keras.applications.vgg16 import VGG16\n",
    "\n",
    "# Define the input shape and number of classes\n",
    "input_shape = (64, 64, 3)\n",
    "num_classes = 2\n",
    "\n",
    "# Load the pre-trained VGG16 model\n",
    "base_model = VGG16(weights='imagenet', include_top=False, input_shape=input_shape)\n",
    "\n",
    "# Freeze the layers of the base model\n",
    "for layer in base_model.layers[:-3]:\n",
    "    layer.trainable = False\n",
    "\n",
    "# Add new layers on top of the base model\n",
    "x = base_model.output\n",
    "x = tf.keras.layers.Flatten()(x)\n",
    "x = Dense(64, activation='relu')(x)\n",
    "x = Dense(32, activation='relu')(x)\n",
    "x = Dense(16, activation='relu')(x)\n",
    "predictions = Dense(num_classes, activation='sigmoid')(x)\n"
   ]
  },
  {
   "cell_type": "code",
   "execution_count": 60,
   "id": "daf30189",
   "metadata": {},
   "outputs": [],
   "source": [
    "from tensorflow import keras\n",
    "\n",
    "# Define the new model\n",
    "VGG16_model = tf.keras.models.Model(inputs=base_model.input, outputs=predictions)\n",
    "\n",
    "# Compile the model\n",
    "optimizer = 'rmsprop'\n",
    "VGG16_model.compile(optimizer=optimizer, loss='binary_crossentropy', metrics=['accuracy'])\n",
    "\n"
   ]
  },
  {
   "cell_type": "code",
   "execution_count": 61,
   "id": "6106e5d7",
   "metadata": {},
   "outputs": [
    {
     "name": "stdout",
     "output_type": "stream",
     "text": [
      "Found 1091 images belonging to 2 classes.\n",
      "Found 1091 images belonging to 2 classes.\n"
     ]
    }
   ],
   "source": [
    "# Define the data generators\n",
    "train_datagen = ImageDataGenerator(rescale=1./255, rotation_range=20, horizontal_flip=True, vertical_flip=False)#target_size=input_shape[:2],\n",
    "test_datagen = ImageDataGenerator(rescale=1./255)\n",
    "\n",
    "train_generator = train_datagen.flow_from_directory('C:/Users/manas_nmr2rze/Desktop/Big_Data/Project/real_and_fake_face', target_size=(64,64), batch_size=32, class_mode='categorical')\n",
    "test_generator = test_datagen.flow_from_directory('C:/Users/manas_nmr2rze/Desktop/Big_Data/Project/real_and_fake_test', target_size=(64,64), batch_size=32, class_mode='categorical')\n",
    "\n"
   ]
  },
  {
   "cell_type": "code",
   "execution_count": 62,
   "id": "72568403",
   "metadata": {},
   "outputs": [
    {
     "name": "stdout",
     "output_type": "stream",
     "text": [
      "Epoch 1/30\n",
      "35/35 [==============================] - 336s 8s/step - loss: 0.7304 - accuracy: 0.5270 - val_loss: 0.6758 - val_accuracy: 0.5463\n",
      "Epoch 2/30\n",
      "35/35 [==============================] - 271s 8s/step - loss: 0.6853 - accuracy: 0.5830 - val_loss: 0.6491 - val_accuracy: 0.6379\n",
      "Epoch 3/30\n",
      "35/35 [==============================] - 246s 7s/step - loss: 0.6583 - accuracy: 0.6049 - val_loss: 0.6532 - val_accuracy: 0.5793\n",
      "Epoch 4/30\n",
      "35/35 [==============================] - 239s 7s/step - loss: 0.6352 - accuracy: 0.6453 - val_loss: 0.6017 - val_accuracy: 0.6865\n",
      "Epoch 5/30\n",
      "35/35 [==============================] - 306s 9s/step - loss: 0.6101 - accuracy: 0.6654 - val_loss: 0.5918 - val_accuracy: 0.6572\n",
      "Epoch 6/30\n",
      "35/35 [==============================] - 221s 6s/step - loss: 0.5965 - accuracy: 0.6920 - val_loss: 0.5226 - val_accuracy: 0.7379\n",
      "Epoch 7/30\n",
      "35/35 [==============================] - 219s 6s/step - loss: 0.5610 - accuracy: 0.7278 - val_loss: 0.5470 - val_accuracy: 0.7030\n",
      "Epoch 8/30\n",
      "35/35 [==============================] - 213s 6s/step - loss: 0.5611 - accuracy: 0.7085 - val_loss: 0.5230 - val_accuracy: 0.7443\n",
      "Epoch 9/30\n",
      "35/35 [==============================] - 232s 7s/step - loss: 0.5667 - accuracy: 0.7369 - val_loss: 0.5636 - val_accuracy: 0.7406\n",
      "Epoch 10/30\n",
      "35/35 [==============================] - 218s 6s/step - loss: 0.5354 - accuracy: 0.7296 - val_loss: 0.6495 - val_accuracy: 0.6920\n",
      "Epoch 11/30\n",
      "35/35 [==============================] - 213s 6s/step - loss: 0.5190 - accuracy: 0.7562 - val_loss: 0.5596 - val_accuracy: 0.7058\n",
      "Epoch 12/30\n",
      "35/35 [==============================] - 214s 6s/step - loss: 0.4728 - accuracy: 0.7764 - val_loss: 0.4139 - val_accuracy: 0.8103\n",
      "Epoch 13/30\n",
      "35/35 [==============================] - 214s 6s/step - loss: 0.4731 - accuracy: 0.7800 - val_loss: 0.4096 - val_accuracy: 0.8002\n",
      "Epoch 14/30\n",
      "35/35 [==============================] - 233s 7s/step - loss: 0.4601 - accuracy: 0.7974 - val_loss: 0.4035 - val_accuracy: 0.7910\n",
      "Epoch 15/30\n",
      "35/35 [==============================] - 213s 6s/step - loss: 0.4604 - accuracy: 0.7910 - val_loss: 0.3976 - val_accuracy: 0.8185\n",
      "Epoch 16/30\n",
      "35/35 [==============================] - 211s 6s/step - loss: 0.4072 - accuracy: 0.8038 - val_loss: 0.4944 - val_accuracy: 0.7635\n",
      "Epoch 17/30\n",
      "35/35 [==============================] - 214s 6s/step - loss: 0.4006 - accuracy: 0.8268 - val_loss: 0.3270 - val_accuracy: 0.8726\n",
      "Epoch 18/30\n",
      "35/35 [==============================] - 222s 6s/step - loss: 0.3750 - accuracy: 0.8332 - val_loss: 0.2507 - val_accuracy: 0.8955\n",
      "Epoch 19/30\n",
      "35/35 [==============================] - 209s 6s/step - loss: 0.3378 - accuracy: 0.8488 - val_loss: 0.2700 - val_accuracy: 0.8790\n",
      "Epoch 20/30\n",
      "35/35 [==============================] - 203s 6s/step - loss: 0.3370 - accuracy: 0.8607 - val_loss: 0.2353 - val_accuracy: 0.9303\n",
      "Epoch 21/30\n",
      "35/35 [==============================] - 203s 6s/step - loss: 0.2977 - accuracy: 0.8763 - val_loss: 0.1707 - val_accuracy: 0.9267\n",
      "Epoch 22/30\n",
      "35/35 [==============================] - 209s 6s/step - loss: 0.2891 - accuracy: 0.8845 - val_loss: 0.2342 - val_accuracy: 0.9129\n",
      "Epoch 23/30\n",
      "35/35 [==============================] - 215s 6s/step - loss: 0.2918 - accuracy: 0.8836 - val_loss: 0.1325 - val_accuracy: 0.9551\n",
      "Epoch 24/30\n",
      "35/35 [==============================] - 205s 6s/step - loss: 0.2584 - accuracy: 0.8992 - val_loss: 0.4150 - val_accuracy: 0.7919\n",
      "Epoch 25/30\n",
      "35/35 [==============================] - 202s 6s/step - loss: 0.2808 - accuracy: 0.8744 - val_loss: 0.3292 - val_accuracy: 0.8625\n",
      "Epoch 26/30\n",
      "35/35 [==============================] - 202s 6s/step - loss: 0.2246 - accuracy: 0.9038 - val_loss: 0.1090 - val_accuracy: 0.9523\n",
      "Epoch 27/30\n",
      "35/35 [==============================] - 207s 6s/step - loss: 0.2281 - accuracy: 0.9102 - val_loss: 0.1795 - val_accuracy: 0.9313\n",
      "Epoch 28/30\n",
      "35/35 [==============================] - 185s 5s/step - loss: 0.2648 - accuracy: 0.8983 - val_loss: 0.1426 - val_accuracy: 0.9276\n",
      "Epoch 29/30\n",
      "35/35 [==============================] - 73s 2s/step - loss: 0.1742 - accuracy: 0.9166 - val_loss: 0.0883 - val_accuracy: 0.9688\n",
      "Epoch 30/30\n",
      "35/35 [==============================] - 73s 2s/step - loss: 0.2030 - accuracy: 0.9322 - val_loss: 0.0849 - val_accuracy: 0.9661\n"
     ]
    }
   ],
   "source": [
    "# Train the model\n",
    "VGG16_history = VGG16_model.fit(train_generator, epochs=30, validation_data=test_generator)\n",
    "\n"
   ]
  },
  {
   "cell_type": "code",
   "execution_count": 38,
   "id": "0f261575",
   "metadata": {},
   "outputs": [],
   "source": [
    "# import pickle\n",
    "# pickle.dump(VGG16_model, open('VGG16_model_faces.pkl','wb'))"
   ]
  },
  {
   "cell_type": "code",
   "execution_count": 63,
   "id": "363ad642",
   "metadata": {},
   "outputs": [],
   "source": [
    "import pickle\n",
    "pickle.dump(VGG16_model, open('VGG16_model_faces_v2.pkl','wb'))"
   ]
  },
  {
   "cell_type": "code",
   "execution_count": 14,
   "id": "290b500a",
   "metadata": {},
   "outputs": [],
   "source": [
    "import pickle\n",
    "VGG16_model=pickle.load(open('VGG16_model_faces_v2.pkl','rb'))"
   ]
  },
  {
   "cell_type": "code",
   "execution_count": 105,
   "id": "d5527cd7",
   "metadata": {},
   "outputs": [
    {
     "data": {
      "image/png": "[encoded data removed]",
      "text/plain": [
       "<Figure size 640x480 with 1 Axes>"
      ]
     },
     "metadata": {},
     "output_type": "display_data"
    },
    {
     "data": {
      "text/plain": [
       "<Figure size 640x480 with 0 Axes>"
      ]
     },
     "metadata": {},
     "output_type": "display_data"
    }
   ],
   "source": [
    "#visualize the plots for training and validation scores\n",
    "import matplotlib.pyplot as plt\n",
    "accuracy = VGG16_history.history[\"accuracy\"]\n",
    "val_accuracy = VGG16_history.history[\"val_accuracy\"]\n",
    "epochs = range(1, len(accuracy) + 1)\n",
    "plt.plot(epochs, accuracy, \"g\", label=\"Training accuracy\")\n",
    "plt.plot(epochs, val_accuracy, \"r\", label=\"Validation accuracy\")\n",
    "plt.title(\"Training and validation accuracy\")\n",
    "plt.legend()\n",
    "plt.figure()\n",
    "\n",
    "plt.show();"
   ]
  },
  {
   "cell_type": "markdown",
   "id": "9aa2af1e",
   "metadata": {},
   "source": [
    "<ul><li>We shall create a function to create random links and to make predictions on random images"
   ]
  },
  {
   "cell_type": "code",
   "execution_count": 372,
   "id": "9f1c19d8",
   "metadata": {},
   "outputs": [],
   "source": [
    "#import required modules and libraries\n",
    "from tensorflow.keras.preprocessing import image\n",
    "import matplotlib.image as mpimg\n",
    "import matplotlib.pyplot as plt\n",
    "import numpy as np\n",
    "import random\n",
    "\n",
    "from PIL import Image\n",
    "import get_link_list\n",
    "#using get_links function retrive the test set links\n",
    "real_links_test, real_names_test = get_link_list.lists('C:/Users/manas_nmr2rze/Desktop/Big_Data/Project/test/real_test')\n",
    "fake_links_test, fake_names_test = get_link_list.lists('C:/Users/manas_nmr2rze/Desktop/Big_Data/Project/test/fake_test')\n",
    "\n",
    "#define function to see prediction results on randomly selected images\n",
    "def show_results(model,comb,names):\n",
    "\n",
    "    #random.seed(0)\n",
    "    img_path= comb[random.randint(0,len(comb)-1)]\n",
    "    img = image.load_img(img_path, target_size=(64, 64))\n",
    "    name=''\n",
    "    for i in names:\n",
    "        if i in img_path:\n",
    "            name= i       \n",
    "    \n",
    "\n",
    "    #Preprocess the image\n",
    "    img_array = image.img_to_array(img)\n",
    "    img_array = np.expand_dims(img_array, axis=0)\n",
    "    #img_array = preprocess_input(img_array)\n",
    "\n",
    "    # Make prediction\n",
    "    preds = model.predict(img_array)\n",
    "    if preds[0][0] < 0.5:\n",
    "        label=f'Real face detected.\\n Detection confidence score: {((1-preds[0][0])*100):.2f}%\\n {name}'#.format((1-preds[0][0])*100),.format(name)\n",
    "    else:\n",
    "        label=f'Fake face detected. \\n Detection confidence score: {(preds[0][0]*100):.2f}%\\n{name}'#.format(preds[0][0]*100), .format(name)\n",
    "\n",
    "    fig, ax = plt.subplots(figsize=(4, 4))\n",
    "    pic = np.array(mpimg.imread(img_path))\n",
    "    ax.set_title(label)\n",
    "    ax.set(xticks=[], yticks=[]);\n",
    "    ax.imshow(pic); \n",
    "\n"
   ]
  },
  {
   "cell_type": "code",
   "execution_count": 15,
   "id": "87537a59",
   "metadata": {},
   "outputs": [
    {
     "name": "stdout",
     "output_type": "stream",
     "text": [
      "11/11 [==============================] - 9s 814ms/step - loss: 1.7602 - accuracy: 0.5794\n",
      "Test accuracy: 0.5794117450714111\n"
     ]
    }
   ],
   "source": [
    "test_loss, test_acc =VGG16_model.evaluate(val_generator)\n",
    "print('Test accuracy:', test_acc)"
   ]
  },
  {
   "cell_type": "code",
   "execution_count": 1,
   "id": "76f627a3",
   "metadata": {},
   "outputs": [
    {
     "ename": "NameError",
     "evalue": "name 'real_links_test' is not defined",
     "output_type": "error",
     "traceback": [
      "\u001b[1;31m---------------------------------------------------------------------------\u001b[0m",
      "\u001b[1;31mNameError\u001b[0m                                 Traceback (most recent call last)",
      "Cell \u001b[1;32mIn[1], line 5\u001b[0m\n\u001b[0;32m      3\u001b[0m model_vgg \u001b[38;5;241m=\u001b[39m pickle\u001b[38;5;241m.\u001b[39mload(\u001b[38;5;28mopen\u001b[39m(\u001b[38;5;124m'\u001b[39m\u001b[38;5;124mVGG16_model_faces_v2.pkl\u001b[39m\u001b[38;5;124m'\u001b[39m,\u001b[38;5;124m'\u001b[39m\u001b[38;5;124mrb\u001b[39m\u001b[38;5;124m'\u001b[39m))\n\u001b[0;32m      4\u001b[0m lists\u001b[38;5;241m=\u001b[39m[]\n\u001b[1;32m----> 5\u001b[0m lists\u001b[38;5;241m.\u001b[39mextend(\u001b[43mreal_links_test\u001b[49m)\n\u001b[0;32m      6\u001b[0m lists\u001b[38;5;241m.\u001b[39mextend(fake_links_test)\n\u001b[0;32m      7\u001b[0m names\u001b[38;5;241m=\u001b[39m[]\n",
      "\u001b[1;31mNameError\u001b[0m: name 'real_links_test' is not defined"
     ]
    }
   ],
   "source": [
    "#import the saved model \n",
    "import pickle\n",
    "model_vgg = pickle.load(open('VGG16_model_faces_v2.pkl','rb'))\n",
    "lists=[]\n",
    "lists.extend(real_links_test)\n",
    "lists.extend(fake_links_test)\n",
    "names=[]\n",
    "names.extend(real_names_test)\n",
    "names.extend(fake_names_test)\n",
    "#call function to see prediction results\n",
    "for i in range(4):\n",
    "    show_results(model_vgg,lists,names)"
   ]
  },
  {
   "cell_type": "markdown",
   "id": "a38a4faa",
   "metadata": {},
   "source": [
    "<ul><li>We shall try to implement another pretrained model "
   ]
  },
  {
   "cell_type": "markdown",
   "id": "e551afc7",
   "metadata": {},
   "source": [
    "### Using Xception pretrained model"
   ]
  },
  {
   "cell_type": "code",
   "execution_count": 2,
   "id": "a3c631b5",
   "metadata": {},
   "outputs": [
    {
     "name": "stdout",
     "output_type": "stream",
     "text": [
      "Found 1400 images belonging to 2 classes.\n",
      "Found 340 images belonging to 2 classes.\n"
     ]
    }
   ],
   "source": [
    "#import required modules\n",
    "import tensorflow as tf\n",
    "from tensorflow.keras.preprocessing.image import ImageDataGenerator\n",
    "from tensorflow.keras.applications import EfficientNetB0\n",
    "from tensorflow.keras.layers import Dense, GlobalAveragePooling2D, Dropout\n",
    "from tensorflow.keras.models import Model\n",
    "from tensorflow.keras.optimizers import Adam\n",
    "from tensorflow.keras.applications.xception import Xception\n",
    "\n",
    "#path for training and validation sets\n",
    "train_dir = 'C:/Users/manas_nmr2rze/Desktop/Big_Data/Project/real_and_fake_face'\n",
    "val_dir = 'C:/Users/manas_nmr2rze/Desktop/Big_Data/Project/real_and_fake_test'\n",
    "# Define the input image size\n",
    "input_size = (64, 64)\n",
    "# Define the batch size\n",
    "batch_size = 32\n",
    "# Define the number of epochs\n",
    "num_epochs = 10\n",
    "# Define the learning rate\n",
    "learning_rate = 0.0001\n",
    "# Define the number of classes\n",
    "num_classes = 2\n",
    "\n",
    "# Create the data generators for the training and validation datasets\n",
    "train_datagen = ImageDataGenerator(rescale=1./255,shear_range=0.2,zoom_range=0.2,horizontal_flip=True)\n",
    "train_generator = train_datagen.flow_from_directory(train_dir,target_size=input_size,\n",
    "                                                    batch_size=batch_size,class_mode='categorical')\n",
    "\n",
    "val_datagen = ImageDataGenerator(rescale=1./255)\n",
    "val_generator = val_datagen.flow_from_directory(val_dir,target_size=input_size,\n",
    "                                                batch_size=batch_size,class_mode='categorical')\n",
    "\n"
   ]
  },
  {
   "cell_type": "code",
   "execution_count": 3,
   "id": "ecc3a66d",
   "metadata": {},
   "outputs": [],
   "source": [
    "#load the base modeland remove top layers\n",
    "base_model = Xception(weights='imagenet', include_top=False)\n",
    "# Freeze the pre-trained model weights\n",
    "for layer in base_model.layers[:-1]:\n",
    "    layer.trainable = False"
   ]
  },
  {
   "cell_type": "code",
   "execution_count": 8,
   "id": "211051e3",
   "metadata": {},
   "outputs": [],
   "source": [
    "#initialize the model \n",
    "from tensorflow.keras.layers import Input, Dense, Activation, BatchNormalization\n",
    "x = base_model.output\n",
    "x = GlobalAveragePooling2D()(x)\n",
    "# Add a fully-connected layer\n",
    "x = Dense(512, activation='relu')(x)\n",
    "x = BatchNormalization()(x)\n",
    "x = Dense(128, activation='relu')(x)\n",
    "x = BatchNormalization()(x)\n",
    "# Add a final output layer for binary classification (fake vs real)\n",
    "x = Dropout(0.5)(x)\n",
    "predictions = Dense(1, activation='sigmoid')(x)\n",
    "\n",
    "# Combine the base model and top layers into a single model\n",
    "X_model = Model(inputs=base_model.input, outputs=predictions)\n",
    "\n",
    "# Freeze the base model's layers to only train the top layers\n",
    "for layer in base_model.layers:\n",
    "    layer.trainable = False"
   ]
  },
  {
   "cell_type": "code",
   "execution_count": 9,
   "id": "bb341a4c",
   "metadata": {},
   "outputs": [],
   "source": [
    "# Compile the model\n",
    "X_model.compile(optimizer='adam', loss='binary_crossentropy', metrics=['accuracy'])\n"
   ]
  },
  {
   "cell_type": "code",
   "execution_count": 10,
   "id": "9fc96988",
   "metadata": {},
   "outputs": [
    {
     "name": "stdout",
     "output_type": "stream",
     "text": [
      "Epoch 1/10\n",
      "44/44 [==============================] - 65s 1s/step - loss: 0.9674 - accuracy: 0.5000 - val_loss: 0.7943 - val_accuracy: 0.5000\n",
      "Epoch 2/10\n",
      "44/44 [==============================] - 39s 897ms/step - loss: 0.8610 - accuracy: 0.5000 - val_loss: 0.7119 - val_accuracy: 0.5000\n",
      "Epoch 3/10\n",
      "44/44 [==============================] - 42s 966ms/step - loss: 0.8361 - accuracy: 0.5000 - val_loss: 0.7084 - val_accuracy: 0.5000\n",
      "Epoch 4/10\n",
      "44/44 [==============================] - 41s 925ms/step - loss: 0.7978 - accuracy: 0.5000 - val_loss: 0.7166 - val_accuracy: 0.5000\n",
      "Epoch 5/10\n",
      "44/44 [==============================] - 39s 892ms/step - loss: 0.7760 - accuracy: 0.5000 - val_loss: 0.7122 - val_accuracy: 0.5000\n",
      "Epoch 6/10\n",
      "44/44 [==============================] - 39s 881ms/step - loss: 0.7539 - accuracy: 0.5000 - val_loss: 0.7024 - val_accuracy: 0.5000\n",
      "Epoch 7/10\n",
      "44/44 [==============================] - 39s 886ms/step - loss: 0.7397 - accuracy: 0.5000 - val_loss: 0.7038 - val_accuracy: 0.5000\n",
      "Epoch 8/10\n",
      "44/44 [==============================] - 40s 902ms/step - loss: 0.7310 - accuracy: 0.5000 - val_loss: 0.6965 - val_accuracy: 0.5000\n",
      "Epoch 9/10\n",
      "44/44 [==============================] - 40s 910ms/step - loss: 0.7204 - accuracy: 0.5000 - val_loss: 0.6943 - val_accuracy: 0.5000\n",
      "Epoch 10/10\n",
      "44/44 [==============================] - 51s 1s/step - loss: 0.7115 - accuracy: 0.5000 - val_loss: 0.6940 - val_accuracy: 0.5000\n"
     ]
    }
   ],
   "source": [
    "# Train the model\n",
    "history_X=X_model.fit(train_generator, epochs=10, validation_data=val_generator)\n"
   ]
  },
  {
   "cell_type": "code",
   "execution_count": 12,
   "id": "44dacd12",
   "metadata": {},
   "outputs": [
    {
     "name": "stdout",
     "output_type": "stream",
     "text": [
      "11/11 [==============================] - 7s 624ms/step - loss: 0.6940 - accuracy: 0.5000\n",
      "Test accuracy: 0.5\n"
     ]
    }
   ],
   "source": [
    "# Evaluate the model\n",
    "test_loss, test_acc =X_model.evaluate(val_generator)\n",
    "print('Test accuracy:', test_acc)\n"
   ]
  },
  {
   "cell_type": "markdown",
   "id": "6555ef01",
   "metadata": {},
   "source": [
    "<ul><li>This accuracy score is not usable for a binary classification problem. so this model cant be used for our purpose."
   ]
  },
  {
   "cell_type": "markdown",
   "id": "8d8bb7f5",
   "metadata": {},
   "source": [
    "<ul><li>In conclusion, real and fake face detection using deep learning has shown great potential in addressing the growing problem of fake images and videos on the internet. Deep learning algorithms such as Convolutional Neural Networks (CNNs) have been applied to detect fake faces which are being generated using various techniques including Generative Adversarial Networks (GANs) and Deepfakes.\n",
    "These algorithms have demonstrated modest accuracy rates in distinguishing real faces from fake ones. So, the challenge remains in developing more advanced algorithms for detecting various forms of fake faces that are generated with increasing levels of realism.\n",
    "Nonetheless, the progress made so far in real and fake face detection using deep learning holds great promise in combating the spread of fake images and videos online.\n"
   ]
  },
  {
   "cell_type": "code",
   "execution_count": null,
   "id": "a732eb62",
   "metadata": {},
   "outputs": [],
   "source": []
  }
 ],
 "metadata": {
  "kernelspec": {
   "display_name": "Python 3 (ipykernel)",
   "language": "python",
   "name": "python3"
  },
  "language_info": {
   "codemirror_mode": {
    "name": "ipython",
    "version": 3
   },
   "file_extension": ".py",
   "mimetype": "text/x-python",
   "name": "python",
   "nbconvert_exporter": "python",
   "pygments_lexer": "ipython3",
   "version": "3.10.9"
  }
 },
 "nbformat": 4,
 "nbformat_minor": 5
}
