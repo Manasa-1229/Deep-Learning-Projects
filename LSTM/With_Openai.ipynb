{
 "cells": [
  {
   "cell_type": "code",
   "execution_count": null,
   "id": "3e6a3997",
   "metadata": {},
   "outputs": [],
   "source": [
    "import openai_secret_manager\n",
    "\n",
    "# Fetch your OpenAI API key from the OpenAI Secret Manager\n",
    "assert \"openai\" in openai_secret_manager.get_services()\n",
    "secrets = openai_secret_manager.get_secret(\"openai\")\n",
    "\n",
    "# Set your API key\n",
    "openai.api_key = secrets[\"api_key\"]\n"
   ]
  },
  {
   "cell_type": "code",
   "execution_count": null,
   "id": "b297558d",
   "metadata": {},
   "outputs": [],
   "source": [
    "import openai\n",
    "import speech_recognition as sr\n",
    "import pyttsx3\n",
    "\n",
    "# Set up OpenAI API key\n",
    "openai.api_key = \"<your_openai_api_key>\"\n",
    "\n",
    "# Initialize speech recognition and text-to-speech engines\n",
    "r = sr.Recognizer()\n",
    "engine = pyttsx3.init()\n",
    "\n",
    "# Define function to process user input and generate response\n",
    "def process_input(input_text):\n",
    "    response = openai.Completion.create(\n",
    "        engine=\"davinci\",\n",
    "        prompt=input_text,\n",
    "        max_tokens=1024,\n",
    "        n=1,\n",
    "        stop=None,\n",
    "        temperature=0.5\n",
    "    )\n",
    "    return response.choices[0].text\n",
    "\n",
    "# Define function to speak the bot's response\n",
    "def speak(text):\n",
    "    engine.say(text)\n",
    "    engine.runAndWait()\n",
    "\n",
    "# Main loop to listen for user input and generate response\n",
    "while True:\n",
    "    with sr.Microphone() as source:\n",
    "        print(\"Listening...\")\n",
    "        audio = r.listen(source)\n",
    "    try:\n",
    "        # Use speech recognition to convert audio to text\n",
    "        input_text = r.recognize_google(audio)\n",
    "        print(f\"You said: {input_text}\")\n",
    "        \n",
    "        # Process input and generate response\n",
    "        response_text = process_input(input_text)\n",
    "        print(f\"Bot said: {response_text}\")\n",
    "        \n",
    "        # Speak the bot's response\n",
    "        speak(response_text)\n",
    "    except sr.UnknownValueError:\n",
    "        print(\"Sorry, I didn't understand what you said. Please try again.\")\n",
    "    except sr.RequestError as e:\n",
    "        print(\"Error: Could not request results; {0}\".format(e))\n"
   ]
  }
 ],
 "metadata": {
  "kernelspec": {
   "display_name": "Python 3 (ipykernel)",
   "language": "python",
   "name": "python3"
  },
  "language_info": {
   "codemirror_mode": {
    "name": "ipython",
    "version": 3
   },
   "file_extension": ".py",
   "mimetype": "text/x-python",
   "name": "python",
   "nbconvert_exporter": "python",
   "pygments_lexer": "ipython3",
   "version": "3.10.9"
  }
 },
 "nbformat": 4,
 "nbformat_minor": 5
}
